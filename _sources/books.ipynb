{
 "cells": [
  {
   "cell_type": "markdown",
   "metadata": {},
   "source": [
    "# Data Science"
   ]
  },
  {
   "cell_type": "markdown",
   "metadata": {},
   "source": [
    "<a href=\"./books/Python for Data Analysis Data Wrangling with Pandas, NumPy, and IPython.pdf\" target=\"_blank\">Python for Data Analysis Data Wrangling with Pandas, NumPy, and IPython</a>"
   ]
  },
  {
   "cell_type": "markdown",
   "metadata": {},
   "source": [
    "<a href=\"./books/Storytelling with Data_A Data Visualization Guide for Business Professionals [John Wiley & Sons].pdf\" target=\"_blank\">Storytelling with Data_A Data Visualization Guide for Business Professionals [John Wiley & Sons]</a>"
   ]
  },
  {
   "cell_type": "markdown",
   "metadata": {},
   "source": [
    "<a href=\"./books/Storytelling with Data_Let&apos;s Practice [John Wiley].pdf\" target=\"_blank\">Storytelling with Data_Let&apos;s Practice [John Wiley]</a>"
   ]
  }
 ],
 "metadata": {
  "kernelspec": {
   "display_name": ".env",
   "language": "python",
   "name": "python3"
  },
  "language_info": {
   "codemirror_mode": {
    "name": "ipython",
    "version": 3
   },
   "file_extension": ".py",
   "mimetype": "text/x-python",
   "name": "python",
   "nbconvert_exporter": "python",
   "pygments_lexer": "ipython3",
   "version": "3.12.1"
  }
 },
 "nbformat": 4,
 "nbformat_minor": 2
}
