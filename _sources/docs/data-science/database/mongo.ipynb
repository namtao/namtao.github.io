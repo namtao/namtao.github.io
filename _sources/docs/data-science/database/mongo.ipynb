{
 "cells": [
  {
   "cell_type": "markdown",
   "metadata": {},
   "source": [
    "# MongoDB"
   ]
  },
  {
   "cell_type": "markdown",
   "metadata": {},
   "source": [
    "## Giới thiệu"
   ]
  },
  {
   "cell_type": "markdown",
   "metadata": {},
   "source": [
    "MongoDB là một chương trình cơ sở dữ liệu mã nguồn mở được thiết kế theo kiểu hướng đối tượng trong đó các bảng được cấu trúc một cách linh hoạt cho phép các dữ liệu lưu trên bảng không cần phải tuân theo một dạng cấu trúc nhất định nào. Chính do cấu trúc linh hoạt này nên MongoDB có thể được dùng để lưu trữ các dữ liệu có cấu trúc phức tạp và đa dạng và không cố định (hay còn gọi là Big Data)."
   ]
  },
  {
   "cell_type": "markdown",
   "metadata": {},
   "source": [
    "So sánh MongoDB với cơ sở dữ liệu quan hệ\n",
    "\n",
    "| Operation | Mysql | MongoDB |\n",
    "| ------- | ----------- | ----------- |\n",
    "|Create|\tInsert|\tInsert|\n",
    "|Read|\tSelect|\tFind|\n",
    "|Update|\tUpdate|\tUpdate|\n",
    "|Delete|\tDelete|\tRemove|\n",
    "|Table|\tTable|\tCollection|\n",
    "|Row|\tRow|\tDocument|"
   ]
  },
  {
   "cell_type": "markdown",
   "metadata": {},
   "source": [
    "## Cài đặt với docker"
   ]
  },
  {
   "cell_type": "markdown",
   "metadata": {},
   "source": [
    "B1: Cài đặt docker $\\rightarrow $ pull images mongo từ docker hub về máy\n",
    "\n",
    "B2: Tạo và chạy container mongo_test từ images mongo và start container\n",
    "\n",
    "`docker run --name mongo_test -p 27017:27017 -d mongo`\n",
    "\n",
    "B3: Tải và thêm biến môi trường mongodb shell vào máy\n",
    "\n",
    "B4: Truy cập vào giao diện dòng lệnh của mongo\n",
    "\n",
    "`docker exec -it a582849592f9 /bin/bash`\n",
    "\n",
    "B5: Gõ `mongosh` dể vào giao diện dòng lệnh container"
   ]
  },
  {
   "cell_type": "markdown",
   "metadata": {},
   "source": [
    "## Các câu lệnh với mongodb"
   ]
  },
  {
   "cell_type": "markdown",
   "metadata": {},
   "source": [
    "1. Hiện thị tất cả các databases: `show dbs`\n",
    "2. Tạo và sử dụng database: `use <tên database>`\n",
    "3. Tạo một collection và insert dữ liệu vào collection: `db.collection_name.insert({'key_name': 'value'})`\n",
    "4. Lấy tất cả object của một collection: `db.collection_name.find({})`\n",
    "5. Lấy giới hạn các object của một collection: `db.collection_name.find({}).limit(10)`\n",
    "6. Lấy theo điều kiên: `db.collection_name.find({'key_name': 'value'})`\n",
    "7. Tìm kiếm với điều kiện logic: `db.collection_name.find($and [{'key_name': 'value'}, {'key_name': 'value'}])` `db.collection_name.find($or [{'key_name': 'value'}, {'key_name': 'value'}])`\n",
    "8. Tìm kiếm sử dụng các phép so sánh: `db.collection_name.find({'key_name': {$gt: number}})` `db.collection_name.find({'key_name': {$lt: number}})`\n",
    "9. Sắp xếp các object: `db.collection_name.find().sort({'key_name': 1 <-1>})`\n",
    "10. Update document: `updateOne` và `updateMany`\n",
    "11. Xoá document: `deleteOne` và `deleteMany`\n",
    "12. Xóa database: `db.dropDatabase()`\n",
    "13. Xóa collection: `db.<tên collection>.drop()`\n",
    "14. Xóa document: `db.<tên collection>.remove({<điều kiện>})`\n",
    "15. Xóa document: `db.<tên collection>.remove`"
   ]
  },
  {
   "cell_type": "markdown",
   "metadata": {},
   "source": [
    "## Các câu lệnh với Docker"
   ]
  },
  {
   "cell_type": "markdown",
   "metadata": {},
   "source": [
    "| Command                                                     | Description |\n",
    "| ----------------------------------------------------------- | ----------- |\n",
    "| `docker build -t <imageName> .`                             | Build       |\n",
    "| `docker run <imageName>:<version>`                          | Run         |\n",
    "| `docker info`                                               | Information |\n",
    "| `docker save -o <path for generated tar file> <image name>` | Save config |\n",
    "| `docker load -i <path to image tar file>`                   | Load config |\n",
    "| `docker cp . 4584b29c4197:/`                                | Copy file   |\n",
    "| `docker exec --user root lucid_hermann rm -rf bienmuc.bak`  | Delete file |\n",
    "| `docker exec -it 3467a0fc187f /bin/bash`                    | Start Mongo |"
   ]
  },
  {
   "cell_type": "markdown",
   "metadata": {},
   "source": [
    "## Tối ưu hiệu năng MongoDB"
   ]
  },
  {
   "cell_type": "markdown",
   "metadata": {},
   "source": [
    "- Tạo index"
   ]
  }
 ],
 "metadata": {
  "language_info": {
   "name": "python"
  }
 },
 "nbformat": 4,
 "nbformat_minor": 2
}
