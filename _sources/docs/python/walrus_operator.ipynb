{
 "cells": [
  {
   "cell_type": "markdown",
   "metadata": {},
   "source": [
    "# Walrus Operator"
   ]
  },
  {
   "cell_type": "markdown",
   "metadata": {},
   "source": [
    "Toán tử gán trong python ':='\n"
   ]
  },
  {
   "cell_type": "code",
   "execution_count": 1,
   "metadata": {},
   "outputs": [
    {
     "name": "stdout",
     "output_type": "stream",
     "text": [
      "8\n",
      "35\n",
      "4.375\n",
      "{'length': 8, 'sum': 35, 'mean': 4.375}\n"
     ]
    }
   ],
   "source": [
    "numbers = [2, 8, 0, 1, 1, 9, 7, 7]\n",
    "\n",
    "description = {\n",
    "    \"length\": (num_length := len(numbers)),\n",
    "    \"sum\": (num_sum := sum(numbers)),\n",
    "    \"mean\": (num_mean := num_sum / num_length),\n",
    "}\n",
    "\n",
    "print(num_length)\n",
    "print(num_sum)\n",
    "print(num_mean)\n",
    "print(description)"
   ]
  }
 ],
 "metadata": {
  "kernelspec": {
   "display_name": ".env",
   "language": "python",
   "name": "python3"
  },
  "language_info": {
   "codemirror_mode": {
    "name": "ipython",
    "version": 3
   },
   "file_extension": ".py",
   "mimetype": "text/x-python",
   "name": "python",
   "nbconvert_exporter": "python",
   "pygments_lexer": "ipython3",
   "version": "3.12.1"
  }
 },
 "nbformat": 4,
 "nbformat_minor": 2
}
