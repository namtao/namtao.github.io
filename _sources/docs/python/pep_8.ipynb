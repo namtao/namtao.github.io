{
 "cells": [
  {
   "cell_type": "markdown",
   "metadata": {},
   "source": [
    "# PEP-8"
   ]
  },
  {
   "cell_type": "markdown",
   "metadata": {},
   "source": [
    "- Thụt lề sao cho các thành phần giống nhau được thẳng hàng nhau\n",
    "- Sử dụng tab để thụt lề\n",
    "- Độ dài dòng tối đa là 79, đối với đoạn văn dài thì tối đa 72 ký tự\n",
    "- Nên ngắt dòng trước các toán tử \n",
    "- Thêm dòng trống giữa:\n",
    "  - Các class và top-level function cách nhau bằng 2 dòng trống;\n",
    "  - Các phương thức bên trong lớp cách nhau bằng 1 dòng trống;\n",
    "  - Các nhóm chức năng, các phần logic phân cách nhau bằng 1 dòng trống\n",
    "- Sử dụng encoding là UTF-8\n",
    "- Import thư viện luôn ở đầu mỗi tệp, thứ tự ưu tiên là: thư viện chuẩn => thư viện thứ ba => thư viên tự định nghĩa\n",
    "- Tránh khoảng trắng không liên quan trong các trường hợp sau\n",
    "  - Ngay bên trong dấu ngoặc đơn, dấu ngoặc hoặc dấu ngoặc nhọn\n",
    "  - Giữa dấu phẩy ở cuối và dấu ngoặc đơn đóng sau\n",
    "  - Ngay trước dấu phẩy, dấu chấm phẩy hoặc dấu hai chấm\n",
    "  - Ngay trước dấu ngoặc đơn mở bắt đầu danh sách đối số của lệnh gọi hàm\n",
    "  - Ngay trước dấu ngoặc đơn mở bắt đầu lập chỉ mục hoặc cắt\n",
    "  - Nhiều khoảng trắng xung quanh toán tử gán (hoặc toán tử khác) để căn chỉnh nó với toán tử khác\n",
    "  - Luôn bao quanh các toán tử nhị phân này bằng một khoảng trắng ở hai bên\n",
    "  - Nếu sử dụng các toán tử có mức độ ưu tiên khác nhau, hãy cân nhắc thêm khoảng trắng xung quanh các toán tử có mức độ ưu tiên thấp nhất. Tuy nhiên, không bao giờ sử dụng nhiều hơn một khoảng trắng và luôn có cùng khoảng trắng ở cả hai phía của toán tử nhị phân\n",
    "  - Chú thích chức năng nên sử dụng các quy tắc thông thường cho dấu hai chấm và luôn có khoảng trắng xung quanh -> mũi tên nếu có\n",
    "  - Không sử dụng khoảng trắng xung quanh = khi được sử dụng để biểu thị đối số từ khóa hoặc khi được sử dụng để biểu thị giá trị mặc định cho tham số hàm không được chú thích. Tuy nhiên, khi kết hợp chú thích đối số với giá trị mặc định, hãy sử dụng khoảng trắng xung quanh =\n",
    "  - Các câu lệnh ghép (nhiều câu lệnh trên cùng một dòng) thường không được khuyến khích\n",
    "- Dấu phẩy ở cuối thường là tùy chọn, ngoại trừ chúng là bắt buộc khi tạo một bộ gồm một phần tử. Để rõ ràng, nên đặt phần sau trong dấu ngoặc đơn (dự phòng về mặt kỹ thuật)\n",
    "- Comment\n",
    "  - Nên viết bằng tiếng Anh\n",
    "  - Không comment cùng với dòng code\n",
    "  - Sử dụng Documentation Strings \n",
    "- Quy ước đặt tên\n",
    "  <table>\n",
    "  <thead>\n",
    "  <tr>\n",
    "  <th>Type</th>\n",
    "  <th>Naming Convention</th>\n",
    "  <th>Examples</th>\n",
    "  </tr>\n",
    "  </thead>\n",
    "  <tbody>\n",
    "  <tr>\n",
    "  <td>Function</td>\n",
    "  <td>Use a lowercase word or words. Separate words by underscores to improve readability.</td>\n",
    "  <td><code>function</code>, <code>python_function</code></td>\n",
    "  </tr>\n",
    "  <tr>\n",
    "  <td>Variable</td>\n",
    "  <td>Use a lowercase single letter, word, or words. Separate words with underscores to improve readability.</td>\n",
    "  <td><code>x</code>, <code>var</code>, <code>python_variable</code></td>\n",
    "  </tr>\n",
    "  <tr>\n",
    "  <td>Class</td>\n",
    "  <td>Start each word with a capital letter. Don’t separate words with underscores. This style is called <a href=\"https://en.wikipedia.org/wiki/Camel_case\">camel case or Pascal case</a>.</td>\n",
    "  <td><code>Model</code>, <code>PythonClass</code></td>\n",
    "  </tr>\n",
    "  <tr>\n",
    "  <td>Method</td>\n",
    "  <td>Use a lowercase word or words. Separate words with underscores to improve readability.</td>\n",
    "  <td><code>class_method</code>, <code>method</code></td>\n",
    "  </tr>\n",
    "  <tr>\n",
    "  <td>Constant</td>\n",
    "  <td>Use an uppercase single letter, word, or words. Separate words with underscores to improve readability.</td>\n",
    "  <td><code>CONSTANT</code>, <code>PYTHON_CONSTANT</code>, <code>PYTHON_LONG_CONSTANT</code></td>\n",
    "  </tr>\n",
    "  <tr>\n",
    "  <td>Module</td>\n",
    "  <td>Use a short, lowercase word or words. Separate words with underscores to improve readability.</td>\n",
    "  <td><code>module.py</code>, <code>python_module.py</code></td>\n",
    "  </tr>\n",
    "  <tr>\n",
    "  <td>Package</td>\n",
    "  <td>Use a short, lowercase word or words. Don’t separate words with underscores.</td>\n",
    "  <td><code>package</code>, <code>pythonpackage</code></td>\n",
    "  </tr>\n",
    "  </tbody>\n",
    "  </table>\n",
    "  \n",
    "  - Tránh sử dụng các ký tự đơn 'l', 'O' để tránh nhầm lẫn giữa các ký tự gần giống nhau trong các bộ mã\n",
    "  - Tên package và tên module: ngắn gọn, viết thường, các từ cách nhau bằng dấu _\n",
    "  - Tên class: thường sử dụng quy ước CapWords\n",
    "  - Tên biến global: quy ước cũng gần giống như các quy ước dành cho hàm\n",
    "  - Tên hàm và biến: phải viết thường, với các từ được phân tách bằng dấu gạch dưới _\n",
    "  - Đối số hàm và phương thức\n",
    "    - Luôn sử dụng self đối số đầu tiên cho các phương thức gốc.\n",
    "    - Luôn sử dụng cls làm đối số đầu tiên cho các phương thức lớp.\n",
    "  - Tên phương thức và biến instance\n",
    "    - Sử dụng quy tắc đặt tên hàm: chữ thường với các từ được phân tách bằng dấu gạch dưới _\n",
    "    - Chỉ sử dụng một dấu gạch dưới hàng đầu cho các phương thức không công khai và các biến thể hiện\n",
    "    - Để tránh xung đột tên với các lớp con, hãy sử dụng hai dấu gạch dưới ở đầu để gọi các quy tắc xáo trộn tên của Python\n",
    "  - Hằng số: viết bằng tất cả các chữ cái in hoa với các từ phân cách bằng dấu gạch dưới _\n",
    "- Khuyến nghị:\n",
    "  - Việc so sánh với các đơn vị như Không phải luôn luôn được thực hiện với is hoặc is not, không bao giờ sử dụng các toán tử đẳng thức.\n",
    "  - Sử dụng is not thay vì not ... is\n",
    "  - Luôn sử dụng câu lệnh def thay vì câu lệnh gán liên kết trực tiếp biểu thức lambda với mã định danh\n",
    "  - Sử dụng with block khi có thể\n",
    "  - Sử dụng ''.startswith() và ''.endswith() thay vì cắt chuỗi để kiểm tra tiền tố hoặc hậu tố\n",
    "  - So sánh loại đối tượng phải luôn sử dụng isinstance() thay vì so sánh trực tiếp các loại\n",
    "  - Không so sánh các giá trị boolean với True hoặc False bằng cách sử dụng ==\n",
    "  - Không sử dụng return/break/continue trong try...finally\n"
   ]
  },
  {
   "cell_type": "markdown",
   "metadata": {},
   "source": [
    "## <a href=\"https://peps.python.org/pep-0008/\" target=\"_blank\">Style Guide</a>"
   ]
  },
  {
   "cell_type": "markdown",
   "metadata": {},
   "source": [
    "## <a href=\"https://realpython.com/python-pep8\" target=\"_blank\">Real Python</a>"
   ]
  },
  {
   "cell_type": "markdown",
   "metadata": {},
   "source": [
    "## <a href=\"https://python.pages.doc.ic.ac.uk/2020/modules/module-buildingblocks/style\" target=\"_blank\">Good Python Coding Style</a>"
   ]
  }
 ],
 "metadata": {
  "language_info": {
   "name": "python"
  }
 },
 "nbformat": 4,
 "nbformat_minor": 2
}
