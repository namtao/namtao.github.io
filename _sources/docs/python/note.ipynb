{
 "cells": [
  {
   "cell_type": "markdown",
   "metadata": {},
   "source": [
    "# Các lưu ý trong Python\n"
   ]
  },
  {
   "cell_type": "markdown",
   "metadata": {},
   "source": [
    "Nên định nghĩa kiểu giá trị của biến\n"
   ]
  },
  {
   "cell_type": "code",
   "execution_count": 37,
   "metadata": {},
   "outputs": [],
   "source": [
    "n: int = 8\n",
    "s: str = \"Chuỗi\""
   ]
  },
  {
   "cell_type": "markdown",
   "metadata": {},
   "source": [
    "Sử dụng `...` thay cho `pass` để trống một khối lệnh hoặc raise lỗi NotImplementedError\n",
    "\n",
    "```python\n",
    "def my_function():\n",
    "    ...\n",
    "\n",
    "```\n"
   ]
  },
  {
   "cell_type": "markdown",
   "metadata": {},
   "source": [
    "Nên viết tài liệu cho hàm xử lý, giải thích các biến\n"
   ]
  },
  {
   "cell_type": "markdown",
   "metadata": {},
   "source": [
    "Sử dụng `*` như một tham số của hàm để bắt người dùng nhập vào phải chứa thông tin tham số hàm\n"
   ]
  },
  {
   "cell_type": "code",
   "execution_count": 1,
   "metadata": {},
   "outputs": [],
   "source": [
    "def my_func(s, *, v): ...\n",
    "\n",
    "\n",
    "my_func(s=\"\", v=\"\")"
   ]
  },
  {
   "cell_type": "markdown",
   "metadata": {},
   "source": [
    "Sử dụng fr hoặc rf trước chuỗi để tạo f-string cho phép sử dụng các biến trong chuỗi chứ các ký tự đặc biệt\n"
   ]
  },
  {
   "cell_type": "code",
   "execution_count": 7,
   "metadata": {},
   "outputs": [
    {
     "name": "stdout",
     "output_type": "stream",
     "text": [
      "C:\\Users\\vanna\\Downloads\\New folder\\a.txt\n"
     ]
    }
   ],
   "source": [
    "custom_folder: str = \"New folder\"\n",
    "\n",
    "path: str = rf\"C:\\Users\\vanna\\Downloads\\{custom_folder}\\a.txt\"\n",
    "print(path)"
   ]
  }
 ],
 "metadata": {
  "kernelspec": {
   "display_name": ".env",
   "language": "python",
   "name": "python3"
  },
  "language_info": {
   "codemirror_mode": {
    "name": "ipython",
    "version": 3
   },
   "file_extension": ".py",
   "mimetype": "text/x-python",
   "name": "python",
   "nbconvert_exporter": "python",
   "pygments_lexer": "ipython3",
   "version": "3.12.1"
  }
 },
 "nbformat": 4,
 "nbformat_minor": 2
}
