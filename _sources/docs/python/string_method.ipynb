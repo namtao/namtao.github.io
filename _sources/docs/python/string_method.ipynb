{
 "cells": [
  {
   "cell_type": "markdown",
   "metadata": {},
   "source": [
    "# String methods\n"
   ]
  },
  {
   "cell_type": "markdown",
   "metadata": {},
   "source": [
    "Có thể sử dụng '\\_' để phân tách hàng của số để dễ đọc\n"
   ]
  },
  {
   "cell_type": "code",
   "execution_count": 29,
   "metadata": {},
   "outputs": [
    {
     "name": "stdout",
     "output_type": "stream",
     "text": [
      "1000000000\n"
     ]
    }
   ],
   "source": [
    "n: int = 1_000_000_000\n",
    "print(f\"{n}\")"
   ]
  },
  {
   "cell_type": "markdown",
   "metadata": {},
   "source": [
    "Sử dụng f-string để biểu diễn số đẹp hơn để phân tách các hàng của số\n"
   ]
  },
  {
   "cell_type": "code",
   "execution_count": 32,
   "metadata": {},
   "outputs": [
    {
     "name": "stdout",
     "output_type": "stream",
     "text": [
      "1_000_000_000\n",
      "1,000,000,000\n"
     ]
    }
   ],
   "source": [
    "n: int = 1_000_000_000\n",
    "print(f\"{n:_}\")\n",
    "print(f\"{n:,}\")"
   ]
  },
  {
   "cell_type": "markdown",
   "metadata": {},
   "source": [
    "Sử dụng '<', '>' hay '^' sau ':' của giá trị để biểu diễn chuỗi\n"
   ]
  },
  {
   "cell_type": "code",
   "execution_count": 33,
   "metadata": {},
   "outputs": [
    {
     "name": "stdout",
     "output_type": "stream",
     "text": [
      "I Love U||||||||||||\n",
      "____________I Love U\n",
      "######I Love U######\n"
     ]
    }
   ],
   "source": [
    "s: str = \"I Love U\"\n",
    "print(f\"{s:|<20}\")\n",
    "print(f\"{s:_>20}\")\n",
    "print(f\"{s:#^20}\")"
   ]
  },
  {
   "cell_type": "markdown",
   "metadata": {},
   "source": [
    "Sử dụng f-string để biểu diễn các số lượng chữ số sau dấy '.' của float (Kết hợp với ',' để phân tách các hàng của số)\n"
   ]
  },
  {
   "cell_type": "code",
   "execution_count": 34,
   "metadata": {},
   "outputs": [
    {
     "name": "stdout",
     "output_type": "stream",
     "text": [
      "123,123.46\n"
     ]
    }
   ],
   "source": [
    "f: float = 123123.456\n",
    "print(f\"{f:,.2f}\")"
   ]
  },
  {
   "cell_type": "markdown",
   "metadata": {},
   "source": [
    "Sử dụng f-string để in kết quả của phép toán bằng cách thêm dấu '=' vào phép toán\n"
   ]
  },
  {
   "cell_type": "code",
   "execution_count": 36,
   "metadata": {},
   "outputs": [
    {
     "name": "stdout",
     "output_type": "stream",
     "text": [
      "a + b = 8\n"
     ]
    }
   ],
   "source": [
    "a: int = 5\n",
    "b: int = 3\n",
    "\n",
    "print(f\"{a + b=}\")"
   ]
  },
  {
   "cell_type": "markdown",
   "metadata": {},
   "source": [
    "Sử dụng `center` để căn giữa string\n"
   ]
  },
  {
   "cell_type": "code",
   "execution_count": 3,
   "metadata": {},
   "outputs": [
    {
     "name": "stdout",
     "output_type": "stream",
     "text": [
      "...........I Love U...........\n"
     ]
    }
   ],
   "source": [
    "text = \"I Love U\"\n",
    "\n",
    "print(text.center(30, \".\"))"
   ]
  },
  {
   "cell_type": "markdown",
   "metadata": {},
   "source": [
    "Sử dụng `ljust` `rjust` để thêm ký tự bên phải, trái của chuỗi\n"
   ]
  },
  {
   "cell_type": "code",
   "execution_count": 5,
   "metadata": {},
   "outputs": [
    {
     "name": "stdout",
     "output_type": "stream",
     "text": [
      "I Love U............\n",
      "............I Love U\n"
     ]
    }
   ],
   "source": [
    "text = \"I Love U\"\n",
    "\n",
    "print(text.ljust(20, \".\"))\n",
    "print(text.rjust(20, \".\"))"
   ]
  }
 ],
 "metadata": {
  "kernelspec": {
   "display_name": ".env",
   "language": "python",
   "name": "python3"
  },
  "language_info": {
   "codemirror_mode": {
    "name": "ipython",
    "version": 3
   },
   "file_extension": ".py",
   "mimetype": "text/x-python",
   "name": "python",
   "nbconvert_exporter": "python",
   "pygments_lexer": "ipython3",
   "version": "3.12.1"
  }
 },
 "nbformat": 4,
 "nbformat_minor": 2
}
