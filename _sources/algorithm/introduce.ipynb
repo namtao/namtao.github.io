{
 "cells": [
  {
   "cell_type": "markdown",
   "id": "64900bc5",
   "metadata": {},
   "source": [
    "# Định nghĩa\n",
    "\n",
    "- Ma trận nhầm lẫn (Confusion matrix)\n",
    "  - TP: dương tính thật (dự đoán dương - thực tế dương)\n",
    "  - FP: dương tính giả (dự đoán dương - thực tế âm)\n",
    "  - TN: âm tính thật (dự đoán âm - thực tế âm)\n",
    "  - FN: âm tính giả (dự đoán âm - thực tế dương)\n",
    "\n",
    "$$Accuracy  =  \\frac{TP + TN}{TP + TN + FP + FN}$$\n",
    "\n",
    "$$Precision = \\frac{TP}{TP + FP}$$\n",
    "\n",
    "$$Recall = \\frac{TP}{TP+FN}$$\n",
    "\n",
    "$$F1 \\ Score = 2 \\frac{Precision *  Recall}{Precision + Recall}$$\n",
    "\n",
    "- ROC - AUC"
   ]
  }
 ],
 "metadata": {
  "jupytext": {
   "cell_metadata_filter": "-all",
   "main_language": "python",
   "notebook_metadata_filter": "-all"
  },
  "language_info": {
   "name": "python"
  }
 },
 "nbformat": 4,
 "nbformat_minor": 5
}
