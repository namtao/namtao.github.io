{
  "cells": [
    {
      "cell_type": "markdown",
      "metadata": {},
      "source": [
        "# Gradient Boost"
      ]
    },
    {
      "cell_type": "code",
      "execution_count": 5,
      "metadata": {
        "id": "g8kEDQjBtPAj"
      },
      "outputs": [],
      "source": [
        "import numpy as np\n",
        "from sklearn.tree import DecisionTreeRegressor\n",
        "\n",
        "class AIVNGradientBooster:\n",
        "\n",
        "    def __init__(self, max_depth=8, min_samples_split=5, min_samples_leaf=5, max_features=3, lr=0.1, num_iter=50):\n",
        "        self.max_depth = max_depth\n",
        "        self.min_samples_split = min_samples_split\n",
        "        self.min_samples_leaf = min_samples_leaf\n",
        "        self.max_features = max_features\n",
        "        self.lr = lr\n",
        "        self.num_iter = num_iter\n",
        "        self.y_mean = 0\n",
        "\n",
        "    def __calculate_loss(self,y, y_pred):\n",
        "        loss = (1/len(y)) * 0.5 * np.sum(np.square(y-y_pred))\n",
        "        return loss\n",
        "\n",
        "    def __take_gradient(self, y, y_pred):\n",
        "        # grad = -(y-y_pred) # cho dự đoán = pred - alpha * residual\n",
        "        grad = (y - y_pred)  # cho dự đoán = pred + alpha * residual\n",
        "        return grad\n",
        "\n",
        "    def __create_base_model(self, X, y):\n",
        "        base = DecisionTreeRegressor(max_depth=self.max_depth,\n",
        "                                    min_samples_split=self.min_samples_split,\n",
        "                                    min_samples_leaf=self.min_samples_leaf,\n",
        "                                    max_features=self.max_features)\n",
        "        base.fit(X,y)\n",
        "        return base\n",
        "\n",
        "    def predict(self,models,y,X):\n",
        "        pred_0 = np.array([self.y_mean] * len(X))\n",
        "        pred = pred_0.reshape(len(pred_0),1)\n",
        "\n",
        "        for i in range(len(models)):\n",
        "            temp = (models[i].predict(X)).reshape(len(X),1)\n",
        "            # pred -= self.lr * temp #cho dự đoán = pred - alpha * residual\n",
        "            pred += self.lr * temp #cho dự đoán = pred + alpha * residual\n",
        "\n",
        "        return pred\n",
        "\n",
        "    def train(self, X, y):\n",
        "        models = []\n",
        "        losses = []\n",
        "        self.y_mean = np.mean(y)\n",
        "        pred_0 = np.array([np.mean(y)] * len(y))\n",
        "        pred = pred_0.reshape(len(pred_0),1)\n",
        "        # print(\"pred_0\", pred_0)\n",
        "\n",
        "        for epoch in range(self.num_iter):\n",
        "            loss = self.__calculate_loss(y, pred)\n",
        "            # print(\"loss: epoch\", epoch, \"=\", loss)\n",
        "            losses.append(loss)\n",
        "            grads = self.__take_gradient(y, pred)\n",
        "            # print(\"gradi\", grads)\n",
        "            base = self.__create_base_model(X, grads)\n",
        "            r = (base.predict(X)).reshape(len(X),1)\n",
        "            # print(\"r\", r)\n",
        "            # pred -= self.lr * r\n",
        "            pred += self.lr * r\n",
        "            models.append(base)\n",
        "\n",
        "        return models, losses, pred_0"
      ]
    },
    {
      "cell_type": "code",
      "execution_count": 14,
      "metadata": {
        "id": "LJt8o8rqVvkx"
      },
      "outputs": [],
      "source": [
        "from sklearn.datasets import make_regression\n",
        "from sklearn.discriminant_analysis import StandardScaler\n",
        "from sklearn.model_selection import train_test_split\n",
        "import seaborn as sns\n",
        "\n",
        "\n",
        "X, y = make_regression(n_samples=15, n_features=1,  random_state=42)\n",
        "X_train, X_test, y_train, y_test = train_test_split(X, y, test_size=0.30, random_state=100)\n",
        "#scaling\n",
        "scaler = StandardScaler()\n",
        "X_train = scaler.fit_transform(X_train)\n",
        "X_test = scaler.fit_transform(X_test)\n",
        "y_train = np.array(y_train).reshape(X_train.shape[0],1)\n",
        "y_test = np.array(y_test).reshape(X_test.shape[0],1)\n",
        "#TRAIN\n",
        "G = AIVNGradientBooster()\n",
        "X_train = np.array([0, -1, 2, 3, 4, 5, 6, 7, 8, 9]).reshape(10,1)\n",
        "y_train = np.array([0, -2, 4, 6, 8, 10, 12, 14, 16, 18]).reshape(10,1)\n",
        "\n",
        "models, losses, pred_0 = G.train(X_train,y_train)\n",
        "\n",
        "sns.set_style('darkgrid')\n",
        "ax = sns.lineplot(x=range(2),y=losses)\n",
        "ax.set(xlabel='Epoch',ylabel='Loss',title='Loss vs Epoch')"
      ]
    },
    {
      "cell_type": "code",
      "execution_count": 15,
      "metadata": {
        "id": "8baYgEQstc-w"
      },
      "outputs": [],
      "source": [
        "import pandas as pd\n",
        "import numpy as np\n",
        "from sklearn.preprocessing import StandardScaler\n",
        "from sklearn.model_selection import train_test_split\n",
        "from sklearn.tree import DecisionTreeRegressor\n",
        "import matplotlib.pyplot as pt\n",
        "import seaborn as sns\n",
        "from sklearn.metrics import mean_squared_error\n",
        "from sklearn.metrics import accuracy_score\n",
        "from sklearn.metrics import roc_auc_score\n",
        "\n",
        "#READ DATA\n",
        "data = pd.read_csv(\"../source/advertising.csv\")\n",
        "data.fillna(0,inplace=True)\n",
        "#X,y\n",
        "X = data.iloc[:,:-1].values\n",
        "y = data.iloc[:,-1].values\n",
        "X_train, X_test, y_train, y_test = train_test_split(X, y, test_size=0.30, random_state=100)\n",
        "#scaling\n",
        "scaler = StandardScaler()\n",
        "X_train = scaler.fit_transform(X_train)\n",
        "X_test = scaler.fit_transform(X_test)\n",
        "y_train = np.array(y_train).reshape(X_train.shape[0],1)\n",
        "y_test = np.array(y_test).reshape(X_test.shape[0],1)\n",
        "#TRAIN\n",
        "G = AIVNGradientBooster()\n",
        "models, losses, pred_0 = G.train(X_train,y_train)"
      ]
    },
    {
      "cell_type": "code",
      "execution_count": 16,
      "metadata": {
        "colab": {
          "base_uri": "https://localhost:8080/",
          "height": 491
        },
        "id": "bVQLlF86tg7Z",
        "outputId": "2f7bd67b-8f5a-46de-f153-476076d84169"
      },
      "outputs": [
        {
          "data": {
            "text/plain": [
              "[Text(0.5, 0, 'Epoch'), Text(0, 0.5, 'Loss'), Text(0.5, 1.0, 'Loss vs Epoch')]"
            ]
          },
          "execution_count": 16,
          "metadata": {},
          "output_type": "execute_result"
        },
        {
          "data": {
            "image/png": "[encoded data removed]",
            "text/plain": [
              "<Figure size 640x480 with 1 Axes>"
            ]
          },
          "metadata": {},
          "output_type": "display_data"
        }
      ],
      "source": [
        "sns.set_style('darkgrid')\n",
        "ax = sns.lineplot(x=range(50),y=losses)\n",
        "ax.set(xlabel='Epoch',ylabel='Loss',title='Loss vs Epoch')"
      ]
    }
  ],
  "metadata": {
    "colab": {
      "provenance": []
    },
    "kernelspec": {
      "display_name": "Python 3",
      "name": "python3"
    },
    "language_info": {
      "codemirror_mode": {
        "name": "ipython",
        "version": 3
      },
      "file_extension": ".py",
      "mimetype": "text/x-python",
      "name": "python",
      "nbconvert_exporter": "python",
      "pygments_lexer": "ipython3",
      "version": "3.12.1"
    }
  },
  "nbformat": 4,
  "nbformat_minor": 0
}
